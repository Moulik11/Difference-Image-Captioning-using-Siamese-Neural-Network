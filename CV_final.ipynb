{
  "nbformat": 4,
  "nbformat_minor": 0,
  "metadata": {
    "colab": {
      "name": "CV_final.ipynb",
      "provenance": [],
      "collapsed_sections": [],
      "machine_shape": "hm"
    },
    "kernelspec": {
      "name": "python3",
      "display_name": "Python 3"
    },
    "accelerator": "TPU"
  },
  "cells": [
    {
      "cell_type": "markdown",
      "metadata": {
        "id": "DvakHRz-170T",
        "colab_type": "text"
      },
      "source": [
        "Load the drive in colab"
      ]
    },
    {
      "cell_type": "code",
      "metadata": {
        "id": "kBE7VY-A42Zw",
        "colab_type": "code",
        "colab": {}
      },
      "source": [
        "!pip install -U -q PyDrive\n",
        "from pydrive.auth import GoogleAuth\n",
        "from pydrive.drive import GoogleDrive\n",
        "from google.colab import auth\n",
        "from oauth2client.client import GoogleCredentials\n",
        "# Authenticate and create the PyDrive client.\n",
        "auth.authenticate_user()\n",
        "gauth = GoogleAuth()\n",
        "gauth.credentials = GoogleCredentials.get_application_default()\n",
        "drive = GoogleDrive(gauth)"
      ],
      "execution_count": null,
      "outputs": []
    },
    {
      "cell_type": "markdown",
      "metadata": {
        "id": "O9__Q00u2IVG",
        "colab_type": "text"
      },
      "source": [
        "Load the images"
      ]
    },
    {
      "cell_type": "code",
      "metadata": {
        "id": "s4Q9VMsPg9XI",
        "colab_type": "code",
        "colab": {
          "base_uri": "https://localhost:8080/",
          "height": 34
        },
        "outputId": "19bfcd3c-8b72-4c71-d9e8-858ea76a12c9"
      },
      "source": [
        "link='https://drive.google.com/open?id=1KIEFAfFqvmesQq8MJYjjj4hhqNVQH3--'\n",
        "fluff, id = link.split('=')\n",
        "print (id) # Verify that you have everything after '='\n",
        "downloaded = drive.CreateFile({'id':id}) \n",
        "\n",
        "downloaded.GetContentFile('resized_images.zip')"
      ],
      "execution_count": null,
      "outputs": [
        {
          "output_type": "stream",
          "text": [
            "1KIEFAfFqvmesQq8MJYjjj4hhqNVQH3--\n"
          ],
          "name": "stdout"
        }
      ]
    },
    {
      "cell_type": "code",
      "metadata": {
        "id": "0-E09hYNhFBN",
        "colab_type": "code",
        "colab": {
          "base_uri": "https://localhost:8080/",
          "height": 34
        },
        "outputId": "48663ec6-290f-41af-a1e8-a57bc324d2ea"
      },
      "source": [
        "import os\n",
        "\n",
        "path='resized_images.zip'\n",
        "isExist = os.path.exists(path) \n",
        "print(isExist)"
      ],
      "execution_count": null,
      "outputs": [
        {
          "output_type": "stream",
          "text": [
            "True\n"
          ],
          "name": "stdout"
        }
      ]
    },
    {
      "cell_type": "code",
      "metadata": {
        "id": "6QzZCWQNhJLL",
        "colab_type": "code",
        "colab": {}
      },
      "source": [
        "!unzip resized_images.zip"
      ],
      "execution_count": null,
      "outputs": []
    },
    {
      "cell_type": "markdown",
      "metadata": {
        "id": "8-KdZqwG2OFv",
        "colab_type": "text"
      },
      "source": [
        "Load annotations"
      ]
    },
    {
      "cell_type": "code",
      "metadata": {
        "id": "aHvxkv0uhOmw",
        "colab_type": "code",
        "colab": {
          "base_uri": "https://localhost:8080/",
          "height": 187
        },
        "outputId": "41a9b420-fd30-4665-f5e5-ae23321dd487"
      },
      "source": [
        "link='https://drive.google.com/open?id=1FXRe0ddA08afjRzAUu8WjjRuVvd5B3-j'\n",
        "fluff, id = link.split('=')\n",
        "print (id) # Verify that you have everything after '='\n",
        "downloaded = drive.CreateFile({'id':id}) \n",
        "\n",
        "downloaded.GetContentFile('annotations.zip')\n",
        "!unzip annotations.zip"
      ],
      "execution_count": null,
      "outputs": [
        {
          "output_type": "stream",
          "text": [
            "1FXRe0ddA08afjRzAUu8WjjRuVvd5B3-j\n",
            "Archive:  annotations.zip\n",
            "   creating: annotations/\n",
            "  inflating: __MACOSX/._annotations  \n",
            "  inflating: annotations/test.json   \n",
            "  inflating: __MACOSX/annotations/._test.json  \n",
            "  inflating: annotations/train.json  \n",
            "  inflating: __MACOSX/annotations/._train.json  \n",
            "  inflating: annotations/val.json    \n",
            "  inflating: __MACOSX/annotations/._val.json  \n"
          ],
          "name": "stdout"
        }
      ]
    },
    {
      "cell_type": "markdown",
      "metadata": {
        "id": "pAVjVX0Y2TYl",
        "colab_type": "text"
      },
      "source": [
        "import libraries"
      ]
    },
    {
      "cell_type": "code",
      "metadata": {
        "id": "d7Vb1L5ehZLq",
        "colab_type": "code",
        "colab": {
          "base_uri": "https://localhost:8080/",
          "height": 34
        },
        "outputId": "9e4a1291-ebeb-4f25-ccc2-1479ed3d7962"
      },
      "source": [
        "import sys\n",
        "import numpy as np\n",
        "import pandas as pd\n",
        "from matplotlib.pyplot import imread\n",
        "import pickle\n",
        "from os import listdir\n",
        "import matplotlib.pyplot as plt\n",
        "%matplotlib inline\n",
        "\n",
        "import cv2\n",
        "import time\n",
        "\n",
        "import tensorflow as tf\n",
        "from keras.models import Sequential\n",
        "from keras.optimizers import Adam\n",
        "from keras.layers import Conv2D, ZeroPadding2D, Activation, Input, concatenate\n",
        "from keras.models import Model\n",
        "\n",
        "from keras.layers.normalization import BatchNormalization\n",
        "from keras.layers.pooling import MaxPooling2D\n",
        "from keras.layers.merge import Concatenate\n",
        "from keras.layers.core import Lambda, Flatten, Dense\n",
        "from keras.initializers import glorot_uniform\n",
        "\n",
        "from keras.engine.topology import Layer\n",
        "from keras.regularizers import l2\n",
        "from keras import backend as K\n",
        "\n",
        "from sklearn.utils import shuffle\n",
        "\n",
        "import numpy.random as rng"
      ],
      "execution_count": null,
      "outputs": [
        {
          "output_type": "stream",
          "text": [
            "Using TensorFlow backend.\n"
          ],
          "name": "stderr"
        }
      ]
    },
    {
      "cell_type": "code",
      "metadata": {
        "id": "LuJwk4hshdWK",
        "colab_type": "code",
        "colab": {}
      },
      "source": [
        "import re\n",
        "import numpy as np\n",
        "from PIL import Image\n",
        "\n",
        "from sklearn.model_selection import train_test_split\n",
        "from keras import backend as K\n",
        "from keras.layers import Activation\n",
        "from keras.layers import Input, Lambda, Dense, Dropout, Convolution2D, MaxPooling2D, Flatten\n",
        "from keras.models import Sequential, Model\n",
        "from keras.optimizers import RMSprop"
      ],
      "execution_count": null,
      "outputs": []
    },
    {
      "cell_type": "code",
      "metadata": {
        "id": "VCyijFprhhLP",
        "colab_type": "code",
        "colab": {}
      },
      "source": [
        "\n",
        "from keras.preprocessing.image import load_img\n",
        "from keras.preprocessing.image import img_to_array\n",
        "\n",
        "from keras.models import Model"
      ],
      "execution_count": null,
      "outputs": []
    },
    {
      "cell_type": "code",
      "metadata": {
        "id": "qGEkHmUkhkNz",
        "colab_type": "code",
        "colab": {
          "base_uri": "https://localhost:8080/",
          "height": 34
        },
        "outputId": "07be424d-ed30-452c-c451-33f2bbbd4ce8"
      },
      "source": [
        "filename='resized_images/0_2.png'\n",
        "image = load_img(filename, target_size=(299, 299))\n",
        "image = img_to_array(image)\n",
        "image = image.reshape((1, image.shape[0], image.shape[1], image.shape[2]))\n",
        "image.shape"
      ],
      "execution_count": null,
      "outputs": [
        {
          "output_type": "execute_result",
          "data": {
            "text/plain": [
              "(1, 299, 299, 3)"
            ]
          },
          "metadata": {
            "tags": []
          },
          "execution_count": 12
        }
      ]
    },
    {
      "cell_type": "markdown",
      "metadata": {
        "id": "uGpEEoL62XiP",
        "colab_type": "text"
      },
      "source": [
        "Siamese Architecture"
      ]
    },
    {
      "cell_type": "code",
      "metadata": {
        "id": "jyWJVW-LhncF",
        "colab_type": "code",
        "colab": {}
      },
      "source": [
        "from keras.layers import Conv2D, MaxPool2D, Flatten, Dense, Input, Subtract, Lambda\n",
        "from keras import optimizers\n",
        "from keras.applications.inception_v3 import InceptionV3\n",
        "def get_siamese_model(input_shape):\n",
        "    \n",
        "    \n",
        "    # Define the tensors for the two input images\n",
        "    left_input = Input(input_shape)\n",
        "    right_input = Input(input_shape)\n",
        "    \n",
        "    \n",
        "    convolutional_net=InceptionV3()\n",
        "    # Generate the encodings (feature vectors) for the two images\n",
        "    encoded_image_1 = convolutional_net(left_input)\n",
        "    encoded_image_2 = convolutional_net(right_input)\n",
        "\n",
        "    # L1 distance layer between the two encoded outputs\n",
        "    # One could use Subtract from Keras, but we want the absolute value\n",
        "    l1_distance_layer = Lambda(\n",
        "        lambda tensors: K.abs(tensors[0] - tensors[1]))\n",
        "    l1_distance = l1_distance_layer([encoded_image_1, encoded_image_2])\n",
        "\n",
        "    # Same class or not prediction\n",
        "    prediction = Dense(units=1, activation='softmax')(l1_distance)\n",
        "    \n",
        "    # Connect the inputs with the outputs\n",
        "    siamese_net = Model(inputs=[left_input,right_input],outputs=prediction)\n",
        "    optimizer = optimizers.Adam(lr = 10e-4)\n",
        "            \n",
        "\n",
        "    siamese_net.compile(loss=\"binary_crossentropy\",optimizer=optimizer)\n",
        "    \n",
        "    # return the model\n",
        "    return siamese_net"
      ],
      "execution_count": null,
      "outputs": []
    },
    {
      "cell_type": "code",
      "metadata": {
        "id": "ENW2VU4xnX25",
        "colab_type": "code",
        "colab": {
          "base_uri": "https://localhost:8080/",
          "height": 374
        },
        "outputId": "963db8d2-8a5e-488c-c493-08fdaed6260c"
      },
      "source": [
        "model=get_siamese_model((299,299,3))\n",
        "print(model.summary())"
      ],
      "execution_count": null,
      "outputs": [
        {
          "output_type": "stream",
          "text": [
            "Model: \"model_2\"\n",
            "__________________________________________________________________________________________________\n",
            "Layer (type)                    Output Shape         Param #     Connected to                     \n",
            "==================================================================================================\n",
            "input_10 (InputLayer)           (None, 299, 299, 3)  0                                            \n",
            "__________________________________________________________________________________________________\n",
            "input_11 (InputLayer)           (None, 299, 299, 3)  0                                            \n",
            "__________________________________________________________________________________________________\n",
            "inception_v3 (Model)            (None, 1000)         23851784    input_10[0][0]                   \n",
            "                                                                 input_11[0][0]                   \n",
            "__________________________________________________________________________________________________\n",
            "lambda_4 (Lambda)               (None, 1000)         0           inception_v3[1][0]               \n",
            "                                                                 inception_v3[2][0]               \n",
            "__________________________________________________________________________________________________\n",
            "dense_2 (Dense)                 (None, 1)            1001        lambda_4[0][0]                   \n",
            "==================================================================================================\n",
            "Total params: 23,852,785\n",
            "Trainable params: 23,818,353\n",
            "Non-trainable params: 34,432\n",
            "__________________________________________________________________________________________________\n",
            "None\n"
          ],
          "name": "stdout"
        }
      ]
    },
    {
      "cell_type": "markdown",
      "metadata": {
        "id": "jnBOWDyy2fao",
        "colab_type": "text"
      },
      "source": [
        "Extract features from siamese model"
      ]
    },
    {
      "cell_type": "code",
      "metadata": {
        "id": "emRg3HoCJsmk",
        "colab_type": "code",
        "colab": {}
      },
      "source": [
        "from keras.applications.inception_v3 import InceptionV3\n",
        "from keras.preprocessing import image\n",
        "from keras.models import Model\n",
        "from keras.layers import Dense, GlobalAveragePooling2D\n",
        "from keras import backend as K\n",
        "from keras.applications.inception_v3 import preprocess_input\n",
        "from pickle import dump\n",
        "import os\n",
        "\n",
        "def extract_features(directory):\n",
        "  model=get_siamese_model((299,299,3))\n",
        "  print(model.summary())\n",
        "  features=dict()\n",
        "  count=0\n",
        "  res=[]\n",
        "  # for name in listdir(directory):\n",
        "  #   res.append(name)\n",
        "  # res.sort()\n",
        "  # print(res)\n",
        "  # print(\"-----------------\")\n",
        "  for name in range(15000):\n",
        "    # load an image from file\n",
        "    filename = directory + '/' +str(name)+'.png'\n",
        "    # temp=name.split('.')\n",
        "    filename2=directory + '/' + str(name)+'_2.png'\n",
        "    \n",
        "    if os.path.exists(filename2)==False or os.path.exists(filename)==False:\n",
        "      continue\n",
        "    count+=1\n",
        "    if count%100==0:\n",
        "      print(count)\n",
        "      # if count==100:\n",
        "      #   return features\n",
        "    # print(filename,\" \",filename2)\n",
        "    image1 = load_img(filename2, target_size=(299, 299))\n",
        "    # convert the image pixels to a numpy array\n",
        "    image1 = img_to_array(image1)\n",
        "    # reshape data for the model\n",
        "    image1 = image1.reshape((1,image1.shape[0], image1.shape[1], image1.shape[2]))\n",
        "    # print(image1.shape)\n",
        "    # prepare the image for the InceptionV3 model\n",
        "    image1 = preprocess_input(image1)\n",
        "\n",
        "    image2 = load_img(filename, target_size=(299, 299))\n",
        "    # convert the image pixels to a numpy array\n",
        "    image2 = img_to_array(image2)\n",
        "    # reshape data for the model\n",
        "    image2 = image2.reshape((1,image2.shape[0], image2.shape[1], image2.shape[2]))\n",
        "    \n",
        "    image2 = preprocess_input(image2)\n",
        "    # get features\n",
        "    inputs=[image1,image2]\n",
        "    feature = model.predict(inputs, verbose=0)\n",
        "    # get image id\n",
        "    # image_id = name.split('.')[0]\n",
        "    # store feature\n",
        "    features[name] = feature\n",
        "    # print('>%s' % name)\n",
        "  return features\n",
        "\n",
        "# extract features from all images\n",
        "directory = 'resized_images'\n",
        "features = extract_features(directory)\n",
        "print('Extracted Features: %d' % len(features))\n",
        "# save to file\n",
        "dump(features, open('features_sia_V3.pkl', 'wb'))\n",
        "dump(features, open('drive/My Drive/171IT248/CV2/features_sia_V3.pkl', 'wb'))\n",
        "\n"
      ],
      "execution_count": null,
      "outputs": []
    },
    {
      "cell_type": "markdown",
      "metadata": {
        "id": "gJnLWNu_2qnx",
        "colab_type": "text"
      },
      "source": [
        "Load the already dumped features if required"
      ]
    },
    {
      "cell_type": "code",
      "metadata": {
        "id": "eJsZQ8bMhnu2",
        "colab_type": "code",
        "colab": {
          "base_uri": "https://localhost:8080/",
          "height": 34
        },
        "outputId": "8070817d-b229-4b96-c64d-2196349c0788"
      },
      "source": [
        "link='https://drive.google.com/file/d/13QsGtwJp22Uw99Gx3ySCG0bxerhTCGBI/view?usp=sharing'\n",
        "link='https://drive.google.com/open?id=13QsGtwJp22Uw99Gx3ySCG0bxerhTCGBI'\n",
        "\n",
        "fluff, id = link.split('=')\n",
        "print (id) # Verify that you have everything after '='\n",
        "downloaded = drive.CreateFile({'id':id}) \n",
        "\n",
        "downloaded.GetContentFile('features_sia_V3.pkl')"
      ],
      "execution_count": null,
      "outputs": [
        {
          "output_type": "stream",
          "text": [
            "13QsGtwJp22Uw99Gx3ySCG0bxerhTCGBI\n"
          ],
          "name": "stdout"
        }
      ]
    },
    {
      "cell_type": "code",
      "metadata": {
        "id": "9Q_6Cupmhnzm",
        "colab_type": "code",
        "colab": {}
      },
      "source": [
        "link='https://drive.google.com/open?id=1LzV8daMhM1Pw9tLkgX14hNtx6SpwfEBH'\n",
        "fluff, id = link.split('=')\n",
        "print (id) # Verify that you have everything after '='\n",
        "downloaded = drive.CreateFile({'id':id}) \n",
        "\n",
        "downloaded.GetContentFile('model-ep001-loss2.800-val_loss2.660.h5')"
      ],
      "execution_count": null,
      "outputs": []
    },
    {
      "cell_type": "markdown",
      "metadata": {
        "id": "aHtLLyfz2xR9",
        "colab_type": "text"
      },
      "source": [
        "Load the already dumped model if required"
      ]
    },
    {
      "cell_type": "code",
      "metadata": {
        "id": "5ng2EHuEhnti",
        "colab_type": "code",
        "colab": {
          "base_uri": "https://localhost:8080/",
          "height": 34
        },
        "outputId": "b406e389-8dff-4691-8eb6-6f94f5ee2aa2"
      },
      "source": [
        "link='https://drive.google.com/open?id=1maAvcRlgf9B2lXSquh5muyqa1MT-3yA4'\n",
        "fluff, id = link.split('=')\n",
        "print (id) # Verify that you have everything after '='\n",
        "downloaded = drive.CreateFile({'id':id}) \n",
        "\n",
        "downloaded.GetContentFile('model_sia15.h5')"
      ],
      "execution_count": null,
      "outputs": [
        {
          "output_type": "stream",
          "text": [
            "1maAvcRlgf9B2lXSquh5muyqa1MT-3yA4\n"
          ],
          "name": "stdout"
        }
      ]
    },
    {
      "cell_type": "code",
      "metadata": {
        "id": "MIYlrWuUhnrF",
        "colab_type": "code",
        "colab": {
          "base_uri": "https://localhost:8080/",
          "height": 102
        },
        "outputId": "4a350a30-07f1-4e0a-ac22-eab07b631113"
      },
      "source": [
        "features[1],features[2],features[3],features[89],features[14957]"
      ],
      "execution_count": null,
      "outputs": [
        {
          "output_type": "execute_result",
          "data": {
            "text/plain": [
              "(array([[0.49958086]], dtype=float32),\n",
              " array([[0.49950066]], dtype=float32),\n",
              " array([[0.49948406]], dtype=float32),\n",
              " array([[0.5004282]], dtype=float32),\n",
              " array([[0.49964324]], dtype=float32))"
            ]
          },
          "metadata": {
            "tags": []
          },
          "execution_count": 15
        }
      ]
    },
    {
      "cell_type": "markdown",
      "metadata": {
        "id": "DxyWOwBO3BeX",
        "colab_type": "text"
      },
      "source": [
        "Load the descriptions from annotations and cleaning it and save it"
      ]
    },
    {
      "cell_type": "code",
      "metadata": {
        "id": "1mRtZ777hnpa",
        "colab_type": "code",
        "colab": {
          "base_uri": "https://localhost:8080/",
          "height": 88
        },
        "outputId": "513a90c0-aa12-4b19-dfa9-3c6b012ed838"
      },
      "source": [
        "import string\n",
        "import json\n",
        "# load doc into memory\n",
        "def load_doc(filename):\n",
        "    # open the file as read only\n",
        "    mapping=dict()\n",
        "    brr=json.loads(open('annotations/train.json').read())\n",
        "    for i in range(len(brr)):\n",
        "      image_id=brr[i]['img_id']\n",
        "      curr=brr[i]['sentences']\n",
        "      if image_id not in mapping:\n",
        "        mapping[image_id] = list()\n",
        "\n",
        "      for image_desc in curr:\n",
        "        if image_desc not in mapping[image_id]:\n",
        "          mapping[image_id].append(image_desc)\n",
        "      \n",
        "    crr=json.loads(open('annotations/test.json').read())\n",
        "    for i in range(len(crr)):\n",
        "      image_id=crr[i]['img_id']\n",
        "      curr=crr[i]['sentences']\n",
        "      if image_id not in mapping:\n",
        "        mapping[image_id] = list()\n",
        "      for image_desc in curr:\n",
        "        if image_desc not in mapping[image_id]:\n",
        "          mapping[image_id].append(image_desc)\n",
        "\n",
        "    arr=json.loads(open('annotations/val.json').read())\n",
        "    for i in range(len(arr)):\n",
        "      image_id=arr[i]['img_id']\n",
        "      curr=arr[i]['sentences']\n",
        "      if image_id not in mapping:\n",
        "        mapping[image_id] = list()\n",
        "      for image_desc in curr:\n",
        "        if image_desc not in mapping[image_id]:\n",
        "          mapping[image_id].append(image_desc)\n",
        "        \n",
        "    return mapping\n",
        "\n",
        "# extract descriptions for images\n",
        "def load_descriptions(doc):\n",
        "    mapping = dict()\n",
        "    # process lines\n",
        "    for line in doc.split('\\n'):\n",
        "        # split line by white space\n",
        "        tokens = line.split()\n",
        "        if len(line) < 2:\n",
        "            continue\n",
        "        # take the first token as the image id, the rest as the description\n",
        "        image_id, image_desc = tokens[0], tokens[1:]\n",
        "        # remove filename from image id\n",
        "        image_id = image_id.split('.')[0]\n",
        "        # convert description tokens back to string\n",
        "        image_desc = ' '.join(image_desc)\n",
        "        # create the list if needed\n",
        "        if image_id not in mapping:\n",
        "            mapping[image_id] = list()\n",
        "        # store description\n",
        "        mapping[image_id].append(image_desc)\n",
        "    return mapping\n",
        " \n",
        "def clean_descriptions(descriptions):\n",
        "    # prepare translation table for removing punctuation\n",
        "    table = str.maketrans('', '', string.punctuation)\n",
        "    for key, desc_list in descriptions.items():\n",
        "        for i in range(len(desc_list)):\n",
        "            desc = desc_list[i]\n",
        "            # tokenize\n",
        "            #print(\"desc\",desc)\n",
        "            desc = desc.split()\n",
        "            # convert to lower case\n",
        "            desc = [word.lower() for word in desc]\n",
        "            # remove punctuation from each token\n",
        "            desc = [w.translate(table) for w in desc]\n",
        "            # remove hanging 's' and 'a'\n",
        "            desc = [word for word in desc if len(word)>1]\n",
        "            # remove tokens with numbers in them\n",
        "            desc = [word for word in desc if word.isalpha()]\n",
        "            # store as string\n",
        "            desc_list[i] =  ' '.join(desc)\n",
        " \n",
        "# convert the loaded descriptions into a vocabulary of words\n",
        "def to_vocabulary(descriptions):\n",
        "    # build a list of all description strings\n",
        "    all_desc = set()\n",
        "    for key in descriptions.keys():\n",
        "        [all_desc.update(d.split()) for d in descriptions[key]]\n",
        "    return all_desc\n",
        " \n",
        "# save descriptions to file, one per line\n",
        "def save_descriptions(descriptions, filename):\n",
        "    lines = list()\n",
        "    for key, desc_list in descriptions.items():\n",
        "        for desc in desc_list:\n",
        "            lines.append(key + ' ' + desc)\n",
        "    data = '\\n'.join(lines)\n",
        "    file = open(filename, 'w')\n",
        "    file.write(data)\n",
        "    file.close()\n",
        " \n",
        "filename = 'annotations'\n",
        "# load descriptions\n",
        "descriptions = load_doc(filename)\n",
        "# parse descriptions\n",
        "# descriptions = load_descriptions(doc)\n",
        "print(descriptions['1'])\n",
        "print('Loaded: %d ' % len(descriptions))\n",
        "# clean descriptions\n",
        "clean_descriptions(descriptions)\n",
        "# summarize vocabulary\n",
        "vocabulary = to_vocabulary(descriptions)\n",
        "print('Vocabulary Size: %d' % len(vocabulary))\n",
        "# save to file\n",
        "save_descriptions(descriptions, 'descriptions.txt')"
      ],
      "execution_count": null,
      "outputs": [
        {
          "output_type": "stream",
          "text": [
            "['the third man in the group of three men is standing further away from the people he is with', 'two people standing next to the patch of grass are missing', 'two people walking toward the other are not there', 'the trunk of the car is open']\n",
            "Loaded: 11329 \n",
            "Vocabulary Size: 2246\n"
          ],
          "name": "stdout"
        }
      ]
    },
    {
      "cell_type": "markdown",
      "metadata": {
        "id": "6U-gMkry3RT5",
        "colab_type": "text"
      },
      "source": [
        "Decoder using LSTM and using Tokenizer\n",
        "\n"
      ]
    },
    {
      "cell_type": "code",
      "metadata": {
        "id": "MZk9hQwnhnk2",
        "colab_type": "code",
        "colab": {}
      },
      "source": [
        "from numpy import array\n",
        "from pickle import load\n",
        "from keras.preprocessing.text import Tokenizer\n",
        "from keras.preprocessing.sequence import pad_sequences\n",
        "from keras.utils import to_categorical\n",
        "from keras.utils import plot_model\n",
        "from keras.models import Model\n",
        "from keras.layers import Input\n",
        "from keras.layers import Dense\n",
        "from keras.layers import LSTM\n",
        "from keras.layers import Embedding\n",
        "from keras.layers import Dropout\n",
        "from keras.layers.merge import add\n",
        "from keras.callbacks import ModelCheckpoint\n",
        "import json\n",
        "\n",
        "# load doc into memory\n",
        "def load_doc(filename):\n",
        "\t# open the file as read only\n",
        "  file = open(filename, 'r')\n",
        "  # read all text\n",
        "  text = file.read()\n",
        "  # close the file\n",
        "  file.close()\n",
        "  return text\n",
        "\n",
        "# load a pre-defined list of photo identifiers\n",
        "def load_set(filename):\n",
        "  brr=json.loads(open(filename).read())\n",
        "  dataset=[]\n",
        "  for i in range(len(brr)):\n",
        "    dataset.append(brr[i]['img_id'])\n",
        "\n",
        "  return set(dataset)\n",
        "\n",
        "# load clean descriptions into memory\n",
        "def load_clean_descriptions(filename, dataset):\n",
        "  # load document\n",
        "  doc = load_doc(filename)\n",
        "  descriptions = dict()\n",
        "  for line in doc.split('\\n'):\n",
        "    # split line by white space\n",
        "    # print(\"line:\",line)\n",
        "    tokens = line.split()\n",
        "    # split id from description\n",
        "    image_id, image_desc = tokens[0], tokens[1:]\n",
        "    # skip images not in the set\n",
        "    if image_id in dataset:\n",
        "      # create list\n",
        "      if image_id not in descriptions:\n",
        "        descriptions[image_id] = list()\n",
        "      # wrap description in tokens\n",
        "      desc = 'startseq ' + ' '.join(image_desc) + ' endseq'\n",
        "      # store\n",
        "      descriptions[image_id].append(desc)\n",
        "  return descriptions\n",
        "\n",
        "# load photo features\n",
        "def load_photo_features(filename, dataset):\n",
        "\t# load all features\n",
        "\tall_features = load(open(filename, 'rb'))\n",
        "\t# filter features\n",
        "\tfeatures = {k: all_features[int(k)] for k in dataset}\n",
        "\treturn features\n",
        "\n",
        "# covert a dictionary of clean descriptions to a list of descriptions\n",
        "def to_lines(descriptions):\n",
        "\tall_desc = list()\n",
        "\tfor key in descriptions.keys():\n",
        "\t\t[all_desc.append(d) for d in descriptions[key]]\n",
        "\treturn all_desc\n",
        "\n",
        "# fit a tokenizer given caption descriptions\n",
        "def create_tokenizer(descriptions):\n",
        "\tlines = to_lines(descriptions)\n",
        "\ttokenizer = Tokenizer()\n",
        "\ttokenizer.fit_on_texts(lines)\n",
        "\treturn tokenizer\n",
        "\n",
        "# calculate the length of the description with the most words\n",
        "def max_length(descriptions):\n",
        "\tlines = to_lines(descriptions)\n",
        "\treturn max(len(d.split()) for d in lines)\n",
        "\n",
        "# create sequences of images, input sequences and output words for an image\n",
        "def create_sequences(tokenizer, max_length, descriptions, photos, vocab_size):\n",
        "\tX1, X2, y = list(), list(), list()\n",
        "\t# walk through each image identifier\n",
        "\tfor key, desc_list in descriptions.items():\n",
        "\t\t# walk through each description for the image\n",
        "\t\tfor desc in desc_list:\n",
        "\t\t\t# encode the sequence\n",
        "\t\t\tseq = tokenizer.texts_to_sequences([desc])[0]\n",
        "\t\t\t# split one sequence into multiple X,y pairs\n",
        "\t\t\tfor i in range(1, len(seq)):\n",
        "\t\t\t\t# split into input and output pair\n",
        "\t\t\t\tin_seq, out_seq = seq[:i], seq[i]\n",
        "\t\t\t\t# pad input sequence\n",
        "\t\t\t\tin_seq = pad_sequences([in_seq], maxlen=max_length)[0]\n",
        "\t\t\t\t# encode output sequence\n",
        "\t\t\t\tout_seq = to_categorical([out_seq], num_classes=vocab_size)[0]\n",
        "\t\t\t\t# store\n",
        "\t\t\t\tX1.append(photos[key][0])\n",
        "\t\t\t\tX2.append(in_seq)\n",
        "\t\t\t\ty.append(out_seq)\n",
        "\treturn array(X1), array(X2), array(y)\n",
        " \n",
        "# define the model\n",
        "def define_model(vocab_size, max_length):\n",
        "\t# feature extractor model\n",
        "\tinputs1 = Input(shape=(1,))\n",
        "\tfe1 = Dropout(0.5)(inputs1)\n",
        "\tfe2 = Dense(512, activation='relu')(fe1)\n",
        "\t# sequence model\n",
        "\tinputs2 = Input(shape=(max_length,))\n",
        "\tse1 = Embedding(vocab_size, 512, mask_zero=True)(inputs2)\n",
        "\tse2 = Dropout(0.5)(se1)\n",
        "\tse3 = LSTM(512)(se2)\n",
        "\t# decoder model\n",
        "\tdecoder1 = add([fe2, se3])\n",
        "\tdecoder2 = Dense(512, activation='relu')(decoder1)\n",
        "\toutputs = Dense(vocab_size, activation='softmax')(decoder2)\n",
        "\t# tie it together [image, seq] [word]\n",
        "\tmodel = Model(inputs=[inputs1, inputs2], outputs=outputs)\n",
        "\tmodel.compile(loss='categorical_crossentropy', optimizer='adam',metrics=['accuracy'])\n",
        "\t# summarize model\n",
        "\tprint(model.summary())\n",
        "\tplot_model(model, to_file='model.png', show_shapes=True)\n",
        "\treturn model"
      ],
      "execution_count": null,
      "outputs": []
    },
    {
      "cell_type": "code",
      "metadata": {
        "id": "g-VhHEa9iGze",
        "colab_type": "code",
        "colab": {}
      },
      "source": [
        "# load training dataset (6K)\n",
        "filename = 'annotations/train.json'\n",
        "train = load_set(filename)\n",
        "print('Dataset: %d' % len(train))\n",
        "# descriptions\n",
        "train_descriptions = load_clean_descriptions('descriptions.txt', train)\n",
        "print(\"ds\",train_descriptions)\n",
        "print('Descriptions: train=%d' % len(train_descriptions))\n",
        "# photo features\n",
        "train_features = load_photo_features('features_sia_V3.pkl', train)\n",
        "print('Photos: train=%d' % len(train_features))\n",
        "# prepare tokenizer\n",
        "tokenizer = create_tokenizer(train_descriptions)\n",
        "vocab_size = len(tokenizer.word_index) + 1\n",
        "print('Vocabulary Size: %d' % vocab_size)\n",
        "# determine the maximum sequence length\n",
        "max_length = max_length(train_descriptions)\n",
        "print('Description Length: %d' % max_length)\n",
        "# prepare sequences\n",
        "X1train, X2train, ytrain = create_sequences(tokenizer, max_length, train_descriptions, train_features, vocab_size)\n",
        "\n",
        "# dev dataset\n",
        "\n",
        "# load test set\n",
        "filename = 'annotations/val.json'\n",
        "test = load_set(filename)\n",
        "print('Dataset: %d' % len(test))\n",
        "# descriptions\n",
        "print(\"len:::\",len(test))\n",
        "test_descriptions = load_clean_descriptions('descriptions.txt', test)\n",
        "print(\"ds\",test_descriptions)\n",
        "print('Descriptions: test=%d' % len(test_descriptions))\n",
        "# photo features\n",
        "test_features = load_photo_features('features_sia_V3.pkl', test)\n",
        "print('Photos: test=%d' % len(test_features))\n",
        "# prepare sequences\n",
        "X1test, X2test, ytest = create_sequences(tokenizer, max_length, test_descriptions, test_features, vocab_size)"
      ],
      "execution_count": null,
      "outputs": []
    },
    {
      "cell_type": "code",
      "metadata": {
        "id": "IL4G4o1JiHB2",
        "colab_type": "code",
        "colab": {}
      },
      "source": [
        "X1train.shape,X2train.shape,ytrain.shape,X1test.shape,X2test.shape,ytest.shape"
      ],
      "execution_count": null,
      "outputs": []
    },
    {
      "cell_type": "code",
      "metadata": {
        "id": "h4n0ouwCiG-h",
        "colab_type": "code",
        "colab": {
          "base_uri": "https://localhost:8080/",
          "height": 136
        },
        "outputId": "2442b8c6-5b0b-4398-9ac5-5c49451ce1db"
      },
      "source": [
        "X1train"
      ],
      "execution_count": null,
      "outputs": [
        {
          "output_type": "execute_result",
          "data": {
            "text/plain": [
              "array([[0.49979398],\n",
              "       [0.49979398],\n",
              "       [0.49979398],\n",
              "       ...,\n",
              "       [0.4988203 ],\n",
              "       [0.4988203 ],\n",
              "       [0.4988203 ]], dtype=float32)"
            ]
          },
          "metadata": {
            "tags": []
          },
          "execution_count": 21
        }
      ]
    },
    {
      "cell_type": "markdown",
      "metadata": {
        "id": "dBiIuDJv3qSr",
        "colab_type": "text"
      },
      "source": [
        "Fit require high computing"
      ]
    },
    {
      "cell_type": "code",
      "metadata": {
        "id": "dPmI7Ihfhnfw",
        "colab_type": "code",
        "colab": {}
      },
      "source": [
        "model = define_model(vocab_size, max_length)\n",
        "# define checkpoint callback\n",
        "filepath = 'model-ep{epoch:03d}-loss{loss:.3f}-val_loss{val_loss:.3f}.h5'\n",
        "checkpoint = ModelCheckpoint(filepath, monitor='val_loss', verbose=1, save_best_only=True, mode='min')\n",
        "# fit model\n",
        "model.fit([X1train, X2train], ytrain, epochs=1, verbose=True, callbacks=[checkpoint], validation_data=([X1test, X2test], ytest))\n"
      ],
      "execution_count": null,
      "outputs": []
    },
    {
      "cell_type": "code",
      "metadata": {
        "id": "Gt_n9VBfiXEZ",
        "colab_type": "code",
        "colab": {
          "base_uri": "https://localhost:8080/",
          "height": 71
        },
        "outputId": "10476183-281f-4fef-adce-0320b4c8c5e0"
      },
      "source": [
        "from keras.models import load_model\n",
        "model=load_model('model_sia15.h5')"
      ],
      "execution_count": null,
      "outputs": [
        {
          "output_type": "stream",
          "text": [
            "/usr/local/lib/python3.6/dist-packages/tensorflow/python/framework/indexed_slices.py:434: UserWarning: Converting sparse IndexedSlices to a dense Tensor of unknown shape. This may consume a large amount of memory.\n",
            "  \"Converting sparse IndexedSlices to a dense Tensor of unknown shape. \"\n"
          ],
          "name": "stderr"
        }
      ]
    },
    {
      "cell_type": "code",
      "metadata": {
        "id": "51s6IVaczSJE",
        "colab_type": "code",
        "colab": {
          "base_uri": "https://localhost:8080/",
          "height": 527
        },
        "outputId": "a1a175eb-b216-4a78-c48e-fb8aff03f7d4"
      },
      "source": [
        "model = define_model(vocab_size, max_length)"
      ],
      "execution_count": null,
      "outputs": [
        {
          "output_type": "stream",
          "text": [
            "Model: \"model_1\"\n",
            "__________________________________________________________________________________________________\n",
            "Layer (type)                    Output Shape         Param #     Connected to                     \n",
            "==================================================================================================\n",
            "input_2 (InputLayer)            (None, 54)           0                                            \n",
            "__________________________________________________________________________________________________\n",
            "input_1 (InputLayer)            (None, 1)            0                                            \n",
            "__________________________________________________________________________________________________\n",
            "embedding_1 (Embedding)         (None, 54, 512)      1030144     input_2[0][0]                    \n",
            "__________________________________________________________________________________________________\n",
            "dropout_1 (Dropout)             (None, 1)            0           input_1[0][0]                    \n",
            "__________________________________________________________________________________________________\n",
            "dropout_2 (Dropout)             (None, 54, 512)      0           embedding_1[0][0]                \n",
            "__________________________________________________________________________________________________\n",
            "dense_1 (Dense)                 (None, 512)          1024        dropout_1[0][0]                  \n",
            "__________________________________________________________________________________________________\n",
            "lstm_1 (LSTM)                   (None, 512)          2099200     dropout_2[0][0]                  \n",
            "__________________________________________________________________________________________________\n",
            "add_1 (Add)                     (None, 512)          0           dense_1[0][0]                    \n",
            "                                                                 lstm_1[0][0]                     \n",
            "__________________________________________________________________________________________________\n",
            "dense_2 (Dense)                 (None, 512)          262656      add_1[0][0]                      \n",
            "__________________________________________________________________________________________________\n",
            "dense_3 (Dense)                 (None, 2012)         1032156     dense_2[0][0]                    \n",
            "==================================================================================================\n",
            "Total params: 4,425,180\n",
            "Trainable params: 4,425,180\n",
            "Non-trainable params: 0\n",
            "__________________________________________________________________________________________________\n",
            "None\n"
          ],
          "name": "stdout"
        }
      ]
    },
    {
      "cell_type": "markdown",
      "metadata": {
        "id": "6vWojo1i4CYB",
        "colab_type": "text"
      },
      "source": [
        "Train With Progressive Loading\n",
        "\n",
        "This section is for  not having enough memory to train the model  (e.g. cannot use AWS EC2 for whatever reason or High computing)."
      ]
    },
    {
      "cell_type": "code",
      "metadata": {
        "id": "LnhUw1CliXNR",
        "colab_type": "code",
        "colab": {
          "base_uri": "https://localhost:8080/",
          "height": 221
        },
        "outputId": "50669965-e013-45d9-8afb-87b9b7906d1a"
      },
      "source": [
        "from pickle import load\n",
        "from keras.preprocessing.text import Tokenizer\n",
        "from keras.preprocessing.sequence import pad_sequences\n",
        "from keras.utils import to_categorical\n",
        "from keras.utils import plot_model\n",
        "from keras.models import Model\n",
        "from keras.layers import Input\n",
        "from keras.layers import Dense\n",
        "from keras.layers import LSTM\n",
        "from keras.layers import Embedding\n",
        "from keras.layers import Dropout\n",
        "from keras.layers.merge import add\n",
        "from keras.callbacks import ModelCheckpoint\n",
        "\n",
        "def create_sequences(tokenizer, max_length, desc_list, photo, vocab_size):\n",
        "\tX1, X2, y = list(), list(), list()\n",
        "\t# walk through each description for the image\n",
        "\tfor desc in desc_list:\n",
        "\t\t# encode the sequence\n",
        "\t\tseq = tokenizer.texts_to_sequences([desc])[0]\n",
        "\t\t# split one sequence into multiple X,y pairs\n",
        "\t\tfor i in range(1, len(seq)):\n",
        "\t\t\t# split into input and output pair\n",
        "\t\t\tin_seq, out_seq = seq[:i], seq[i]\n",
        "\t\t\t# pad input sequence\n",
        "\t\t\tin_seq = pad_sequences([in_seq], maxlen=max_length)[0]\n",
        "\t\t\t# encode output sequence\n",
        "\t\t\tout_seq = to_categorical([out_seq], num_classes=vocab_size)[0]\n",
        "\t\t\t# store\n",
        "\t\t\tX1.append(photo)\n",
        "\t\t\tX2.append(in_seq)\n",
        "\t\t\ty.append(out_seq)\n",
        "\treturn array(X1), array(X2), array(y)\n",
        "# data generator, intended to be used in a call to model.fit_generator()\n",
        "def data_generator(descriptions, photos, tokenizer, max_length, vocab_size):\n",
        "\t# loop for ever over images\n",
        "\twhile 1:\n",
        "\t\tfor key, desc_list in descriptions.items():\n",
        "\t\t\t# retrieve the photo feature\n",
        "\t\t\tphoto = photos[key][0]\n",
        "\t\t\tin_img, in_seq, out_word = create_sequences(tokenizer, max_length, desc_list, photo, vocab_size)\n",
        "\t\t\tyield [[in_img, in_seq], out_word]\n",
        " \n",
        " \n",
        "# define the model\n",
        "# model = define_model(vocab_size, max_length)\n",
        "# train the model, run epochs manually and save after each epoch\n",
        "epochs = 15\n",
        "steps = len(train_descriptions)\n",
        "for i in range(22,epochs+20):\n",
        "  # create the data generator\n",
        "  generator = data_generator(train_descriptions, train_features, tokenizer, max_length, vocab_size)\n",
        "  # fit for one epoch\n",
        "  model.fit_generator(generator, epochs=1, steps_per_epoch=steps, verbose=True)\n",
        "  # save model\n",
        "  model.save('model_sia' + str(i) + '.h5')\n",
        "  model.save('drive/My Drive/171IT248/CV2/model1/model_sia' + str(i) + '.h5')"
      ],
      "execution_count": null,
      "outputs": [
        {
          "output_type": "stream",
          "text": [
            "Epoch 1/1\n",
            "8566/8566 [==============================] - 1688s 197ms/step - loss: 1.9216 - accuracy: 0.4991\n",
            "Epoch 1/1\n",
            "8566/8566 [==============================] - 1892s 221ms/step - loss: 1.9312 - accuracy: 0.4978\n",
            "Epoch 1/1\n",
            "8566/8566 [==============================] - 1968s 230ms/step - loss: 1.9319 - accuracy: 0.4978\n",
            "Epoch 1/1\n",
            "8566/8566 [==============================] - 1897s 221ms/step - loss: 1.9437 - accuracy: 0.4966\n",
            "Epoch 1/1\n",
            "8566/8566 [==============================] - 1905s 222ms/step - loss: 1.9457 - accuracy: 0.4972\n",
            "Epoch 1/1\n",
            "5711/8566 [===================>..........] - ETA: 10:31 - loss: 1.9734 - accuracy: 0.4983"
          ],
          "name": "stdout"
        }
      ]
    },
    {
      "cell_type": "code",
      "metadata": {
        "id": "z341dMKMjH6u",
        "colab_type": "code",
        "colab": {
          "base_uri": "https://localhost:8080/",
          "height": 122
        },
        "outputId": "11057b84-a295-434e-82da-e8b720801979"
      },
      "source": [
        "from google.colab import drive\n",
        "drive.mount('/content/drive')"
      ],
      "execution_count": null,
      "outputs": [
        {
          "output_type": "stream",
          "text": [
            "Go to this URL in a browser: https://accounts.google.com/o/oauth2/auth?client_id=947318989803-6bn6qk8qdgf4n4g3pfee6491hc0brc4i.apps.googleusercontent.com&redirect_uri=urn%3aietf%3awg%3aoauth%3a2.0%3aoob&response_type=code&scope=email%20https%3a%2f%2fwww.googleapis.com%2fauth%2fdocs.test%20https%3a%2f%2fwww.googleapis.com%2fauth%2fdrive%20https%3a%2f%2fwww.googleapis.com%2fauth%2fdrive.photos.readonly%20https%3a%2f%2fwww.googleapis.com%2fauth%2fpeopleapi.readonly\n",
            "\n",
            "Enter your authorization code:\n",
            "··········\n",
            "Mounted at /content/drive\n"
          ],
          "name": "stdout"
        }
      ]
    },
    {
      "cell_type": "code",
      "metadata": {
        "id": "On211neS9S6P",
        "colab_type": "code",
        "colab": {
          "base_uri": "https://localhost:8080/",
          "height": 360
        },
        "outputId": "91b63ba4-3d7f-4df6-ac5f-c6f23865145a"
      },
      "source": [
        "!pip3 install \"git+https://github.com/salaniz/pycocoevalcap.git\"\n"
      ],
      "execution_count": null,
      "outputs": [
        {
          "output_type": "stream",
          "text": [
            "Collecting git+https://github.com/salaniz/pycocoevalcap.git\n",
            "  Cloning https://github.com/salaniz/pycocoevalcap.git to /tmp/pip-req-build-hpwgquyh\n",
            "  Running command git clone -q https://github.com/salaniz/pycocoevalcap.git /tmp/pip-req-build-hpwgquyh\n",
            "Requirement already satisfied (use --upgrade to upgrade): pycocoevalcap==1.1 from git+https://github.com/salaniz/pycocoevalcap.git in /usr/local/lib/python3.6/dist-packages\n",
            "Requirement already satisfied: pycocotools>=2.0.0 in /usr/local/lib/python3.6/dist-packages (from pycocoevalcap==1.1) (2.0.1)\n",
            "Requirement already satisfied: setuptools>=18.0 in /usr/local/lib/python3.6/dist-packages (from pycocotools>=2.0.0->pycocoevalcap==1.1) (47.3.1)\n",
            "Requirement already satisfied: matplotlib>=2.1.0 in /usr/local/lib/python3.6/dist-packages (from pycocotools>=2.0.0->pycocoevalcap==1.1) (3.2.2)\n",
            "Requirement already satisfied: cython>=0.27.3 in /usr/local/lib/python3.6/dist-packages (from pycocotools>=2.0.0->pycocoevalcap==1.1) (0.29.20)\n",
            "Requirement already satisfied: python-dateutil>=2.1 in /usr/local/lib/python3.6/dist-packages (from matplotlib>=2.1.0->pycocotools>=2.0.0->pycocoevalcap==1.1) (2.8.1)\n",
            "Requirement already satisfied: numpy>=1.11 in /usr/local/lib/python3.6/dist-packages (from matplotlib>=2.1.0->pycocotools>=2.0.0->pycocoevalcap==1.1) (1.18.5)\n",
            "Requirement already satisfied: cycler>=0.10 in /usr/local/lib/python3.6/dist-packages (from matplotlib>=2.1.0->pycocotools>=2.0.0->pycocoevalcap==1.1) (0.10.0)\n",
            "Requirement already satisfied: pyparsing!=2.0.4,!=2.1.2,!=2.1.6,>=2.0.1 in /usr/local/lib/python3.6/dist-packages (from matplotlib>=2.1.0->pycocotools>=2.0.0->pycocoevalcap==1.1) (2.4.7)\n",
            "Requirement already satisfied: kiwisolver>=1.0.1 in /usr/local/lib/python3.6/dist-packages (from matplotlib>=2.1.0->pycocotools>=2.0.0->pycocoevalcap==1.1) (1.2.0)\n",
            "Requirement already satisfied: six>=1.5 in /usr/local/lib/python3.6/dist-packages (from python-dateutil>=2.1->matplotlib>=2.1.0->pycocotools>=2.0.0->pycocoevalcap==1.1) (1.12.0)\n",
            "Building wheels for collected packages: pycocoevalcap\n",
            "  Building wheel for pycocoevalcap (setup.py) ... \u001b[?25l\u001b[?25hdone\n",
            "  Created wheel for pycocoevalcap: filename=pycocoevalcap-1.1-cp36-none-any.whl size=104310216 sha256=76672ea1dcb24e3323f4be9fd13e65358ac2bc3d2df7fc0563840cbf4932d74b\n",
            "  Stored in directory: /tmp/pip-ephem-wheel-cache-yoi21p2m/wheels/43/c5/1e/8c540096ae74b7789563f1ba2a0e195308ee86f445a0cda110\n",
            "Successfully built pycocoevalcap\n"
          ],
          "name": "stdout"
        }
      ]
    },
    {
      "cell_type": "markdown",
      "metadata": {
        "id": "nr7FW_TW4mFQ",
        "colab_type": "text"
      },
      "source": [
        "Evaluate Model on Testing images\n",
        "\n",
        "\n",
        "\n",
        " \n",
        "\n",
        "*   This involves passing in the start description token   ‘startseq‘, generating one word, then calling the model recursively with generated words as input until the end of sequence token is reached ‘endseq‘ or the maximum description length is reached.\n",
        "*   The function below named generate_desc() implements this behavior and generates a textual description given a trained model, and a given prepared photo as input. It calls the function word_for_id() in order to map an integer prediction back to a word.\n",
        "\n",
        "BLEU scores are used in text translation for evaluating translated text against one or more reference translations.\n",
        "\n",
        "Here, we compare each generated description against all of the reference descriptions for the photograph. We then calculate BLEU scores for 1, 2, 3 and 4 cumulative n-grams.\n",
        "\n",
        "\n",
        "\n",
        "\n",
        "\n"
      ]
    },
    {
      "cell_type": "code",
      "metadata": {
        "id": "HF3iyIT6iXW3",
        "colab_type": "code",
        "colab": {
          "base_uri": "https://localhost:8080/",
          "height": 204
        },
        "outputId": "0542280f-f094-4ebd-ecff-7b08f49b30f7"
      },
      "source": [
        "from numpy import argmax\n",
        "from pickle import load\n",
        "from keras.preprocessing.text import Tokenizer\n",
        "from keras.preprocessing.sequence import pad_sequences\n",
        "from keras.models import load_model\n",
        "from nltk.translate.bleu_score import corpus_bleu\n",
        "\n",
        "\n",
        "# load doc into memory\n",
        "def load_doc(filename):\n",
        "\t# open the file as read only\n",
        "\tfile = open(filename, 'r')\n",
        "\t# read all text\n",
        "\ttext = file.read()\n",
        "\t# close the file\n",
        "\tfile.close()\n",
        "\treturn text\n",
        "\n",
        "# load a pre-defined list of photo identifiers\n",
        "def load_set(filename):\n",
        "  brr=json.loads(open(filename).read())\n",
        "  dataset=[]\n",
        "  for i in range(len(brr)):\n",
        "    dataset.append(brr[i]['img_id'])\n",
        "\n",
        "  return set(dataset)\n",
        "\n",
        "# load clean descriptions into memory\n",
        "def load_clean_descriptions(filename, dataset):\n",
        "\t# load document\n",
        "\tdoc = load_doc(filename)\n",
        "\tdescriptions = dict()\n",
        "\tfor line in doc.split('\\n'):\n",
        "\t\t# split line by white space\n",
        "\t\ttokens = line.split()\n",
        "\t\t# split id from description\n",
        "\t\timage_id, image_desc = tokens[0], tokens[1:]\n",
        "\t\t# skip images not in the set\n",
        "\t\tif image_id in dataset:\n",
        "\t\t\t# create list\n",
        "\t\t\tif image_id not in descriptions:\n",
        "\t\t\t\tdescriptions[image_id] = list()\n",
        "\t\t\t# wrap description in tokens\n",
        "\t\t\tdesc = 'startseq ' + ' '.join(image_desc) + ' endseq'\n",
        "\t\t\t# store\n",
        "\t\t\tdescriptions[image_id].append(desc)\n",
        "\treturn descriptions\n",
        "\n",
        "# load photo features\n",
        "def load_photo_features(filename, dataset):\n",
        "\t# load all features\n",
        "\tall_features = load(open(filename, 'rb'))\n",
        "\t# filter features\n",
        "\tfeatures = {k: all_features[int(k)] for k in dataset}\n",
        "\treturn features\n",
        "\n",
        "# covert a dictionary of clean descriptions to a list of descriptions\n",
        "def to_lines(descriptions):\n",
        "\tall_desc = list()\n",
        "\tfor key in descriptions.keys():\n",
        "\t\t[all_desc.append(d) for d in descriptions[key]]\n",
        "\treturn all_desc\n",
        "\n",
        "# fit a tokenizer given caption descriptions\n",
        "def create_tokenizer(descriptions):\n",
        "\tlines = to_lines(descriptions)\n",
        "\ttokenizer = Tokenizer()\n",
        "\ttokenizer.fit_on_texts(lines)\n",
        "\treturn tokenizer\n",
        "\n",
        "# calculate the length of the description with the most words\n",
        "def max_length(descriptions):\n",
        "\tlines = to_lines(descriptions)\n",
        "\treturn max(len(d.split()) for d in lines)\n",
        "\n",
        "# map an integer to a word\n",
        "def word_for_id(integer, tokenizer):\n",
        "\tfor word, index in tokenizer.word_index.items():\n",
        "\t\tif index == integer:\n",
        "\t\t\treturn word\n",
        "\treturn None\n",
        "\n",
        "# generate a description for an image\n",
        "def generate_desc(model, tokenizer, photo, max_length):\n",
        "\t# seed the generation process\n",
        "\tin_text = 'startseq'\n",
        "\t# iterate over the whole length of the sequence\n",
        "\tfor i in range(max_length):\n",
        "\t\t# integer encode input sequence\n",
        "\t\tsequence = tokenizer.texts_to_sequences([in_text])[0]\n",
        "\t\t# pad input\n",
        "\t\tsequence = pad_sequences([sequence], maxlen=max_length)\n",
        "\t\t# predict next word\n",
        "\t\tyhat = model.predict([photo,sequence], verbose=0)\n",
        "\t\t# convert probability to integer\n",
        "\t\tyhat = argmax(yhat)\n",
        "\t\t# map integer to word\n",
        "\t\tword = word_for_id(yhat, tokenizer)\n",
        "\t\t# stop if we cannot map the word\n",
        "\t\tif word is None:\n",
        "\t\t\tbreak\n",
        "\t\t# append as input for generating the next word\n",
        "\t\tin_text += ' ' + word\n",
        "\t\t# stop if we predict the end of the sequence\n",
        "\t\tif word == 'endseq':\n",
        "\t\t\tbreak\n",
        "\treturn in_text\n",
        "\n",
        "# evaluate the skill of the model\n",
        "def evaluate_model(model, descriptions, photos, tokenizer, max_length):\n",
        "\tactual, predicted = list(), list()\n",
        "\t# step over the whole set\n",
        "\tfor key, desc_list in descriptions.items():\n",
        "\t\t# generate description\n",
        "\t\tyhat = generate_desc(model, tokenizer, photos[key], max_length)\n",
        "\t\t# store actual and predicted\n",
        "\t\treferences = [d.split() for d in desc_list]\n",
        "\t\tactual.append(references)\n",
        "\t\tpredicted.append(yhat.split())\n",
        "\t# calculate BLEU score\n",
        "\tprint('BLEU-1: %f' % corpus_bleu(actual, predicted, weights=(1.0, 0, 0, 0)))\n",
        "\tprint('BLEU-2: %f' % corpus_bleu(actual, predicted, weights=(0.5, 0.5, 0, 0)))\n",
        "\tprint('BLEU-3: %f' % corpus_bleu(actual, predicted, weights=(0.3, 0.3, 0.3, 0)))\n",
        "\tprint('BLEU-4: %f' % corpus_bleu(actual, predicted, weights=(0.25, 0.25, 0.25, 0.25)))\n",
        "\n",
        "\n",
        "# prepare tokenizer on train set\n",
        "\n",
        "# load training dataset (6K)\n",
        "filename = 'annotations/train.json'\n",
        "train = load_set(filename)\n",
        "print('Dataset: %d' % len(train))\n",
        "# descriptions\n",
        "train_descriptions = load_clean_descriptions('descriptions.txt', train)\n",
        "print('Descriptions: train=%d' % len(train_descriptions))\n",
        "# prepare tokenizer\n",
        "tokenizer = create_tokenizer(train_descriptions)\n",
        "vocab_size = len(tokenizer.word_index) + 1\n",
        "print('Vocabulary Size: %d' % vocab_size)\n",
        "# determine the maximum sequence length\n",
        "max_length = max_length(train_descriptions)\n",
        "print('Description Length: %d' % max_length)\n",
        "\n",
        "# prepare test set\n",
        "\n",
        "# load test set\n",
        "filename = 'annotations/test.json'\n",
        "test = load_set(filename)\n",
        "print('Dataset: %d' % len(test))\n",
        "# descriptions\n",
        "test_descriptions = load_clean_descriptions('descriptions.txt', test)\n",
        "print('Descriptions: test=%d' % len(test_descriptions))\n",
        "# photo features\n",
        "test_features = load_photo_features('features_sia_V3.pkl', test)\n",
        "print('Photos: test=%d' % len(test_features))\n",
        "\n",
        "# load the model\n",
        "# filename = 'model_15.h5'\n",
        "# model = load_model(filename)\n",
        "# evaluate model\n",
        "evaluate_model(model, test_descriptions, test_features, tokenizer, max_length)"
      ],
      "execution_count": null,
      "outputs": [
        {
          "output_type": "stream",
          "text": [
            "Dataset: 8566\n",
            "Descriptions: train=8566\n",
            "Vocabulary Size: 2012\n",
            "Description Length: 54\n",
            "Dataset: 1270\n",
            "Descriptions: test=1270\n",
            "Photos: test=1270\n",
            "BLEU-1: 0.440519\n",
            "BLEU-2: 0.259316\n",
            "BLEU-3: 0.191045\n",
            "BLEU-4: 0.099098\n"
          ],
          "name": "stdout"
        }
      ]
    },
    {
      "cell_type": "markdown",
      "metadata": {
        "id": "iJTn5-az5bPx",
        "colab_type": "text"
      },
      "source": [
        "Saving Tokenizer"
      ]
    },
    {
      "cell_type": "code",
      "metadata": {
        "id": "aCmg-CFMiXSz",
        "colab_type": "code",
        "colab": {
          "base_uri": "https://localhost:8080/",
          "height": 68
        },
        "outputId": "2e6b9323-b85f-4fab-eaad-e9c98e4fd70a"
      },
      "source": [
        "from keras.preprocessing.text import Tokenizer\n",
        "from pickle import dump\n",
        "\n",
        "# load doc into memory\n",
        "def load_doc(filename):\n",
        "\t# open the file as read only\n",
        "\tfile = open(filename, 'r')\n",
        "\t# read all text\n",
        "\ttext = file.read()\n",
        "\t# close the file\n",
        "\tfile.close()\n",
        "\treturn text\n",
        "\n",
        "# load a pre-defined list of photo identifiers\n",
        "def load_set(filename):\n",
        "  brr=json.loads(open(filename).read())\n",
        "  dataset=[]\n",
        "  for i in range(len(brr)):\n",
        "    dataset.append(brr[i]['img_id'])\n",
        "\n",
        "  return set(dataset)\n",
        "\n",
        "# load clean descriptions into memory\n",
        "def load_clean_descriptions(filename, dataset):\n",
        "\t# load document\n",
        "\tdoc = load_doc(filename)\n",
        "\tdescriptions = dict()\n",
        "\tfor line in doc.split('\\n'):\n",
        "\t\t# split line by white space\n",
        "\t\ttokens = line.split()\n",
        "\t\t# split id from description\n",
        "\t\timage_id, image_desc = tokens[0], tokens[1:]\n",
        "\t\t# skip images not in the set\n",
        "\t\tif image_id in dataset:\n",
        "\t\t\t# create list\n",
        "\t\t\tif image_id not in descriptions:\n",
        "\t\t\t\tdescriptions[image_id] = list()\n",
        "\t\t\t# wrap description in tokens\n",
        "\t\t\tdesc = 'startseq ' + ' '.join(image_desc) + ' endseq'\n",
        "\t\t\t# store\n",
        "\t\t\tdescriptions[image_id].append(desc)\n",
        "\treturn descriptions\n",
        "\n",
        "# covert a dictionary of clean descriptions to a list of descriptions\n",
        "def to_lines(descriptions):\n",
        "\tall_desc = list()\n",
        "\tfor key in descriptions.keys():\n",
        "\t\t[all_desc.append(d) for d in descriptions[key]]\n",
        "\treturn all_desc\n",
        "\n",
        "# fit a tokenizer given caption descriptions\n",
        "def create_tokenizer(descriptions):\n",
        "  lines = to_lines(descriptions)\n",
        "  print(\"lines:\",len(lines))\n",
        "  tokenizer = Tokenizer()\n",
        "  tokenizer.fit_on_texts(lines)\n",
        "  return tokenizer\n",
        "\n",
        "# load training dataset (6K)\n",
        "filename = 'annotations/train.json'\n",
        "train = load_set(filename)\n",
        "print('Dataset: %d' % len(train))\n",
        "# descriptions\n",
        "train_descriptions = load_clean_descriptions('descriptions.txt', train)\n",
        "print('Descriptions: train=%d' % len(train_descriptions))\n",
        "# prepare tokenizer\n",
        "tokenizer = create_tokenizer(train_descriptions)\n",
        "# save the tokenizer\n",
        "dump(tokenizer, open('tokenizer.pkl', 'wb'))"
      ],
      "execution_count": null,
      "outputs": [
        {
          "output_type": "stream",
          "text": [
            "Dataset: 8566\n",
            "Descriptions: train=8566\n",
            "lines: 17672\n"
          ],
          "name": "stdout"
        }
      ]
    },
    {
      "cell_type": "code",
      "metadata": {
        "id": "aE2-PLk_iXLQ",
        "colab_type": "code",
        "colab": {
          "base_uri": "https://localhost:8080/",
          "height": 34
        },
        "outputId": "df83ea6c-e0f1-45fd-8928-ae5529f038c4"
      },
      "source": [
        "link2='https://drive.google.com/open?id=15sH-2Jt11QQ0Fe7LOJVswD1YyOo7E_--'\n",
        "fluff2, id2 = link2.split('=')\n",
        "print (id2) # Verify that you have everything after '='\n",
        "downloaded2 = drive.CreateFile({'id':id2}) \n",
        "\n",
        "downloaded2.GetContentFile('76_2.png')"
      ],
      "execution_count": null,
      "outputs": [
        {
          "output_type": "stream",
          "text": [
            "15sH-2Jt11QQ0Fe7LOJVswD1YyOo7E_--\n"
          ],
          "name": "stdout"
        }
      ]
    },
    {
      "cell_type": "code",
      "metadata": {
        "id": "fz6BYem5iXH6",
        "colab_type": "code",
        "colab": {
          "base_uri": "https://localhost:8080/",
          "height": 34
        },
        "outputId": "3adb1df7-74e4-4562-f83b-b1a671ce84c5"
      },
      "source": [
        "link2='https://drive.google.com/open?id=1DiWO9-3X74RqRi1xXDnA18PA5rXjJzAM'\n",
        "fluff2, id2 = link2.split('=')\n",
        "print (id2) # Verify that you have everything after '='\n",
        "downloaded2 = drive.CreateFile({'id':id2}) \n",
        "\n",
        "downloaded2.GetContentFile('76.png')"
      ],
      "execution_count": null,
      "outputs": [
        {
          "output_type": "stream",
          "text": [
            "1DiWO9-3X74RqRi1xXDnA18PA5rXjJzAM\n"
          ],
          "name": "stdout"
        }
      ]
    },
    {
      "cell_type": "markdown",
      "metadata": {
        "id": "-bCfQpL75pah",
        "colab_type": "text"
      },
      "source": [
        "Feature extraction for Testing images"
      ]
    },
    {
      "cell_type": "code",
      "metadata": {
        "id": "LiZgrPehi0BJ",
        "colab_type": "code",
        "colab": {
          "base_uri": "https://localhost:8080/",
          "height": 428
        },
        "outputId": "7a1634c7-1252-4bcc-d623-c58fac1ce3dc"
      },
      "source": [
        "from pickle import load\n",
        "from numpy import argmax\n",
        "from keras.preprocessing.sequence import pad_sequences\n",
        "\n",
        "from keras.preprocessing.image import load_img\n",
        "from keras.preprocessing.image import img_to_array\n",
        "\n",
        "from keras.models import Model\n",
        "from keras.models import load_model\n",
        "from keras.preprocessing import image\n",
        "from keras.layers import Dense, GlobalAveragePooling2D\n",
        "from keras import backend as K\n",
        "from keras.applications.resnet50 import preprocess_input\n",
        "from pickle import dump\n",
        "import numpy as np\n",
        "import os\n",
        "\n",
        "# extract features from each photo in the directory\n",
        "def extract_features(filename1,filename2,model):\n",
        "\t# load the model\n",
        "  \n",
        "\n",
        "\n",
        "  res=[]\n",
        "  # for name in listdir(directory):\n",
        "  #   res.append(name)\n",
        "  # res.sort()\n",
        "  # print(res)\n",
        "  # print(\"-----------------\")\n",
        "\n",
        "  # load an image from file\n",
        "  filename = filename1\n",
        "  # temp=name.split('.')\n",
        "  filename2=filename2\n",
        "\n",
        "\n",
        "\n",
        "  # print(filename,\" \",filename2)\n",
        "  image1 = load_img(filename2, target_size=(299, 299))\n",
        "  # convert the image pixels to a numpy array\n",
        "  image1 = img_to_array(image1)\n",
        "  # reshape data for the model\n",
        "  image1 = image1.reshape((1,image1.shape[0], image1.shape[1], image1.shape[2]))\n",
        "  # print(image1.shape)\n",
        "  # prepare the image for the VGG model\n",
        "  image1 = preprocess_input(image1)\n",
        "\n",
        "  image2 = load_img(filename, target_size=(299, 299))\n",
        "  # convert the image pixels to a numpy array\n",
        "  image2 = img_to_array(image2)\n",
        "  # reshape data for the model\n",
        "  image2 = image2.reshape((1,image2.shape[0], image2.shape[1], image2.shape[2]))\n",
        "\n",
        "  image2 = preprocess_input(image2)\n",
        "  # get features\n",
        "  inputs=[image1,image2]\n",
        "  feature = model.predict(inputs, verbose=True)\n",
        "\n",
        "  return feature\n",
        "\n",
        "# map an integer to a word\n",
        "def word_for_id(integer, tokenizer):\n",
        "\tfor word, index in tokenizer.word_index.items():\n",
        "\t\tif index == integer:\n",
        "\t\t\treturn word\n",
        "\treturn None\n",
        "\n",
        "# generate a description for an image\n",
        "def generate_desc(model, tokenizer, photo, max_length):\n",
        "  # seed the generation process\n",
        "  in_text = 'startseq'\n",
        "  # iterate over the whole length of the sequence\n",
        "  for i in range(max_length):\n",
        "    # integer encode input sequence\n",
        "    sequence = tokenizer.texts_to_sequences([in_text])[0]\n",
        "    # pad input\n",
        "    sequence = pad_sequences([sequence], maxlen=max_length)\n",
        "    # predict next word\n",
        "    # print(photo.shape,\" \",sequence.shape)\n",
        "    # sequence=sequence.reshape(54,)\n",
        "    yhat = model.predict([photo,sequence], verbose=True)\n",
        "    # convert probability to integer\n",
        "    yhat = argmax(yhat)\n",
        "    # map integer to word\n",
        "    word = word_for_id(yhat, tokenizer)\n",
        "    # stop if we cannot map the word\n",
        "    if word is None:\n",
        "      break\n",
        "    # append as input for generating the next word\n",
        "    in_text += ' ' + word\n",
        "    # stop if we predict the end of the sequence\n",
        "    if word == 'endseq':\n",
        "      break\n",
        "  return in_text\n",
        "\n",
        "# load the tokenizer\n",
        "tokenizer = load(open('tokenizer.pkl', 'rb'))\n",
        "# pre-define the max sequence length (from training)\n",
        "max_length = 54\n",
        "# load the model\n",
        "model = load_model('model_sia15.h5')\n",
        "# load and prepare the photograph\n",
        "model1=get_siamese_model((299,299,3))\n",
        "print(model1.summary())\n"
      ],
      "execution_count": null,
      "outputs": [
        {
          "output_type": "stream",
          "text": [
            "/usr/local/lib/python3.6/dist-packages/tensorflow/python/framework/indexed_slices.py:434: UserWarning: Converting sparse IndexedSlices to a dense Tensor of unknown shape. This may consume a large amount of memory.\n",
            "  \"Converting sparse IndexedSlices to a dense Tensor of unknown shape. \"\n"
          ],
          "name": "stderr"
        },
        {
          "output_type": "stream",
          "text": [
            "Model: \"model_2\"\n",
            "__________________________________________________________________________________________________\n",
            "Layer (type)                    Output Shape         Param #     Connected to                     \n",
            "==================================================================================================\n",
            "input_4 (InputLayer)            (None, 299, 299, 3)  0                                            \n",
            "__________________________________________________________________________________________________\n",
            "input_5 (InputLayer)            (None, 299, 299, 3)  0                                            \n",
            "__________________________________________________________________________________________________\n",
            "inception_v3 (Model)            (None, 1000)         23851784    input_4[0][0]                    \n",
            "                                                                 input_5[0][0]                    \n",
            "__________________________________________________________________________________________________\n",
            "lambda_2 (Lambda)               (None, 1000)         0           inception_v3[1][0]               \n",
            "                                                                 inception_v3[2][0]               \n",
            "__________________________________________________________________________________________________\n",
            "dense_2 (Dense)                 (None, 1)            1001        lambda_2[0][0]                   \n",
            "==================================================================================================\n",
            "Total params: 23,852,785\n",
            "Trainable params: 23,818,353\n",
            "Non-trainable params: 34,432\n",
            "__________________________________________________________________________________________________\n",
            "None\n"
          ],
          "name": "stdout"
        }
      ]
    },
    {
      "cell_type": "code",
      "metadata": {
        "id": "nTM9GDvxi2i9",
        "colab_type": "code",
        "colab": {
          "base_uri": "https://localhost:8080/",
          "height": 204
        },
        "outputId": "9e672f5b-c17c-437a-977a-49d280e36d5e"
      },
      "source": [
        "photo = extract_features('2631_2.png','2631.png',model1)\n",
        "# generate description\n",
        "\n",
        "description = generate_desc(model, tokenizer, photo, max_length)\n",
        "print(description)"
      ],
      "execution_count": null,
      "outputs": [
        {
          "output_type": "stream",
          "text": [
            "1/1 [==============================] - 4s 4s/step\n",
            "1/1 [==============================] - 0s 93ms/step\n",
            "1/1 [==============================] - 0s 18ms/step\n",
            "1/1 [==============================] - 0s 15ms/step\n",
            "1/1 [==============================] - 0s 15ms/step\n",
            "1/1 [==============================] - 0s 15ms/step\n",
            "1/1 [==============================] - 0s 15ms/step\n",
            "1/1 [==============================] - 0s 15ms/step\n",
            "1/1 [==============================] - 0s 15ms/step\n",
            "1/1 [==============================] - 0s 16ms/step\n",
            "startseq there is person walking in the parking lot endseq\n"
          ],
          "name": "stdout"
        }
      ]
    },
    {
      "cell_type": "markdown",
      "metadata": {
        "id": "bzI18AYZ56ZV",
        "colab_type": "text"
      },
      "source": [
        "Overview of Descriptions.txt file"
      ]
    },
    {
      "cell_type": "code",
      "metadata": {
        "id": "JqwoO3rfMV-l",
        "colab_type": "code",
        "colab": {}
      },
      "source": [
        "doc = load_doc('descriptions.txt')\n",
        "print(doc)"
      ],
      "execution_count": null,
      "outputs": []
    }
  ]
}